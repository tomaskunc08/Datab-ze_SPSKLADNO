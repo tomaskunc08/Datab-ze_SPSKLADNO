{
  "nbformat": 4,
  "nbformat_minor": 0,
  "metadata": {
    "interpreter": {
      "hash": "844666d065970604720619e9beaf7cae1bffaee307c095d8082add94b805615d"
    },
    "kernelspec": {
      "display_name": "Python 3.9.6 64-bit (system)",
      "name": "python3"
    },
    "language_info": {
      "codemirror_mode": {
        "name": "ipython",
        "version": 3
      },
      "file_extension": ".py",
      "mimetype": "text/x-python",
      "name": "python",
      "nbconvert_exporter": "python",
      "pygments_lexer": "ipython3",
      "version": "3.9.6"
    },
    "orig_nbformat": 4,
    "colab": {
      "name": "Princip_relacni_databaze_a_pripojeni_zadani.ipynb",
      "provenance": [],
      "collapsed_sections": [],
      "include_colab_link": true
    }
  },
  "cells": [
    {
      "cell_type": "markdown",
      "metadata": {
        "id": "view-in-github",
        "colab_type": "text"
      },
      "source": [
        "<a href=\"https://colab.research.google.com/github/JaroslavHolecek/Teaching/blob/master/JupyterNotebook/SQL/Princip_relacni_databaze_a_pripojeni_zadani.ipynb\" target=\"_parent\"><img src=\"https://colab.research.google.com/assets/colab-badge.svg\" alt=\"Open In Colab\"/></a>"
      ]
    },
    {
      "cell_type": "markdown",
      "metadata": {
        "id": "rUh4gbp0XazY"
      },
      "source": [
        "# Relační databáze - princip a připojení\n",
        "Relační databáze mají jako základ tabulky. Dále jsou a tyto tabulky propojeny předem nastavenými vztahy - propojení není nic jiného, než že se hodnoty z jedné tabulky objevují v jiné tabulce.\n",
        "\n",
        "Tabulky obsahují sloupce - __atributy__ a řádky - __záznamy__.\n",
        "\n",
        "V reálném světě máme objekty (npř. auto, dům, ...) \"smyšlené objekty\" (např. řidičská kvalifikace, barva, ...) - jedním slovem toto \"věci\" nazýváme <strong>entita</strong>. Entity mají své vlastnosti - auto má značku, spz, počet kol, počet dvěří, ... .\n",
        "\n",
        "Atributy (sloupce) tabulky určují vlastnosti entit, které se do tabulky budou vkládat. Konkrétní data - tedy např. \"BMW, 2A5 01, 4, 5\" jsou potom záznamy (řádky) v tabulce.\n",
        "\n",
        "# SŘBD - systém řízení báze dat\n",
        "Jedná se o systém (program/aplikaci), který se \"stará\" o data. Jeho prací je dohlížet na to, zda do databáze zadáváme to co tam má skutečně být.\n",
        "\n",
        "Např.: \n",
        "- hlídá datové typy \n",
        "- indexuje záznamy\n",
        "- hlídá unikátní hodnoty ve sloupcích (pokud tak tabulku nastavíme)\n",
        "- hlídá data napříč 2 a více tabulkami na základě vlastních a cizích klíčů\n",
        "- a mnoho dalšího\n",
        "\n",
        "# Atribut\n",
        "Sloupeček v databázi určuje jaké informaci, kterou si budeme o entitě v databázi pamatovat/zapisovat do databáze. Abychom správně nastavili atribut musíme mu přiřadit název a datový typ, datový typ může být např.: celé číslo - int, datum - date, text - text a mnoho dalších. Dále můžeme atributu nastavit různé vlastnosti (NOT NULL, UNIQUE, ...), které si budeme ukazovat dále.\n",
        "\n",
        "Do každého atributu lze zapsat pouze jednou na každém řádku (pro každý záznam). Pokud budeme potřebovat zapsat např. 2 telefoní čísla do jednoho záznamu (k jednomu člověku v databázi), budeme muset pro druhé telefoní číslo vytvořit nový atribut (to mimochodem není nejlepší způsob, zde je pouze pro představu).\n",
        "\n",
        "Atribut jako takový by měl být atomický. To znamená, že záznam, který do atributu zadáváme nejde nijak rozložit. \n",
        "\n",
        "Např.: Máme atribut \"jmeno a prijmeni\"\n",
        "\n",
        "Tento atribut můžeme rozdělit na 2 samostatně stojící atriburty, na \"jmeno\" a na \"prijmeni\"\n",
        "\n",
        "Teď máme 2 atributy: \"jmeno\" a \"prijmeni\"\n",
        "\n",
        "Tyto atributy nemůžeme nijak rozdělit, jedná se tudíž o atomické atributy.\n",
        "\n",
        "Správná volba atributů (a jejich složitostí) nám zajistí hladký chod databáze její jednoduché používání a psaní dalších dotazů do databáze.\n",
        "\n",
        "Například takto může vypadat databáze s atomickými atributy.\n",
        "\n",
        "__Entita__ ->  ||        Člověk | | |\n",
        "-------------|| ------| | |\n",
        "__Atributy ->__    || __jmeno__ | __prijmeni__ | __datum_narozeni__\n",
        "__Záznam 1__ -> || Pavel | Novotný  | 1.1.1990\n",
        "__Záznam 2__ -> || Jakub | Novák    | 10.7.2002 \n",
        "\n",
        "\n",
        "__pozn.__ Atributy se budou do větší hloubky probírat v dalších podkladech.\n"
      ]
    },
    {
      "cell_type": "markdown",
      "metadata": {
        "id": "aZ_gkIgAXazn"
      },
      "source": [
        "# Připojení do školní databáze pomocí Pythonu\n",
        "Abychom se mohli připojit do databáze pomocí Pythonu a s databází nadále pracovat, musíme si nejdříve nainstalovat knihovnu mysql.connector. To uděláme následujícím způsobem:"
      ]
    },
    {
      "cell_type": "code",
      "metadata": {
        "id": "0HuCUu7OXazp"
      },
      "source": [
        "! pip install mysql-connector\n",
        "# Tento příkaz stáhne a nainstaluje knihovnu mysql-connector"
      ],
      "execution_count": null,
      "outputs": []
    },
    {
      "cell_type": "markdown",
      "metadata": {
        "id": "-fahSr1KXaz0"
      },
      "source": [
        "Nyni k samotnému připojení"
      ]
    },
    {
      "cell_type": "code",
      "metadata": {
        "id": "mwDuhMlOXaz2"
      },
      "source": [
        "import mysql.connector # tento příkaz vám umožní používat příkazy z knihovny mysql-connector\n",
        "\n",
        "mydb = mysql.connector.connect(\n",
        "    host = \"url adresa databáze\"\n",
        "    ,user = \"rekne_ucitel\"\n",
        "    ,password = \"rekne_ucitel\"\n",
        "    ,database = \"zavisi_na_useru\"\n",
        ") # tento příkaz nás připojí do databáze\n",
        "\n",
        "mycursor = mydb.cursor() # proměnnou mycursor si můžeme představit jako myš a klávesnici, kterými zadáváme hodnoty do databáze a potvrzujeme příkazy\n",
        "# Avšak samotné příkazy si ukážeme až v dalších podkladech.\n",
        "\n",
        "# Poté co jsme se připojili a provedli potřebné operace se z databáze zase musíme odpojit.\n",
        "# To uděláme pomocí těchto příkazů\n",
        "mycursor.close()\n",
        "mydb.close()"
      ],
      "execution_count": null,
      "outputs": []
    },
    {
      "cell_type": "markdown",
      "metadata": {
        "id": "vtZCCoWzXaz4"
      },
      "source": [
        "# Cvičení\n",
        "Bude následovat jedno jednoduché cvičení (zatím není příliš co procvičovat...).\n",
        "\n",
        "Napište kód pro připojení a následné odpojení od školní databáze."
      ]
    },
    {
      "cell_type": "code",
      "metadata": {
        "id": "5_9PHeX1Xaz6"
      },
      "source": [
        "# TODO: Zde bude váš kód ->\n"
      ],
      "execution_count": null,
      "outputs": []
    }
  ]
}